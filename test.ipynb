{
 "cells": [
  {
   "cell_type": "code",
   "execution_count": 1,
   "metadata": {},
   "outputs": [],
   "source": [
    "from utils.data_processing import DataProcessing\n",
    "from utils.image_file_util import *\n",
    "from utils.scoring import *\n",
    "from utils.visualizer import *"
   ]
  },
  {
   "cell_type": "code",
   "execution_count": 3,
   "metadata": {},
   "outputs": [
    {
     "name": "stdout",
     "output_type": "stream",
     "text": [
      "Image low_crowd.png has been saved.\n"
     ]
    }
   ],
   "source": [
    "low = load_image(f\"images/STI/Old classic/crowd.bmp\")\n",
    "\n",
    "dp = DataProcessing()\n",
    "high = dp.interpolate(low, 0.25)\n",
    "save_image_as(\"low_crowd.png\", high)"
   ]
  },
  {
   "cell_type": "code",
   "execution_count": null,
   "metadata": {},
   "outputs": [],
   "source": [
    "dbn = SupervisedDBNRegression(\n",
    "            hidden_layers_structure=[512,768,768,512],\n",
    "            batch_size=512,\n",
    "            learning_rate_rbm=0.01,\n",
    "            n_epochs_rbm=500,\n",
    "            activation_function=\"sigmoid\",\n",
    "            optimization_algorithm='sgd',\n",
    "            learning_rate=0.001,\n",
    "            n_iter_backprop=500,\n",
    "        )\n",
    "    dp = DataProcessing()\n",
    "\n",
    "    dbn.load(\"model/model_mandrill.tif_f(brickwall_256.png)_512_x2_p16_s4_l[512, 768, 768, 512]_sigmoid_lr0.01_lrft0.001.h5\")\n",
    "    interpolated_test = dp.interpolate(img, 2)\n",
    "    test_patches = dp.get_patches(interpolated_test, 16, 4)\n",
    "    norm, _ = dp.normalize_for_rbm(test_patches)\n",
    "\n",
    "    norm = dp.normalize_for_rbm(test_patches)\n",
    "\n",
    "    test_patches_flat = dp.preprocess_for_rbm(norm)\n",
    "    norm=None\n",
    "\n",
    "    result_flat = dbn.predict(test_patches_flat)\n",
    "    result_flat = dp.proccess_output(test_patches_flat, result_flat)\n",
    "\n",
    "    result_patches, _ = dp.inverse_preprocess(\n",
    "        result_flat, (16, 16, 3)\n",
    "    )\n",
    "\n",
    "    reconstruct_image = dp.reconstruct_from_patches(\n",
    "        result_patches, original_shape=(512,512,3))\n",
    "    \n",
    "    result_flat=None\n",
    "    \n",
    "    result_patches=None\n",
    "    return reconstruct_image"
   ]
  }
 ],
 "metadata": {
  "kernelspec": {
   "display_name": "rbm_sr",
   "language": "python",
   "name": "python3"
  },
  "language_info": {
   "codemirror_mode": {
    "name": "ipython",
    "version": 3
   },
   "file_extension": ".py",
   "mimetype": "text/x-python",
   "name": "python",
   "nbconvert_exporter": "python",
   "pygments_lexer": "ipython3",
   "version": "3.6.13"
  }
 },
 "nbformat": 4,
 "nbformat_minor": 2
}
